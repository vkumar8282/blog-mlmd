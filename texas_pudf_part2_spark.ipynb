{
 "cells": [
  {
   "cell_type": "markdown",
   "metadata": {},
   "source": [
    "To import the necessary pyspark components type the following: "
   ]
  },
  {
   "cell_type": "code",
   "execution_count": 2,
   "metadata": {},
   "outputs": [],
   "source": [
    "from pyspark.sql import SparkSession, SQLContext"
   ]
  },
  {
   "cell_type": "markdown",
   "metadata": {},
   "source": [
    "Next, we create our Spark session."
   ]
  },
  {
   "cell_type": "code",
   "execution_count": 4,
   "metadata": {},
   "outputs": [],
   "source": [
    "spark = SparkSession \\\n",
    "    .builder \\\n",
    "    .appName('Import Texas PUDF Data') \\\n",
    "    .getOrCreate() \\"
   ]
  },
  {
   "cell_type": "markdown",
   "metadata": {},
   "source": [
    "Now, we import the data into a DataFrame:"
   ]
  },
  {
   "cell_type": "code",
   "execution_count": 5,
   "metadata": {},
   "outputs": [],
   "source": [
    "data_sp = spark.read.load(\n",
    "    \"C:\\\\Users\\\\Vikas\\\\PUDF_base1_1q2012_tab.txt\",\n",
    "    format=\"csv\",\n",
    "    sep=\"\\t\",\n",
    "    header=True\n",
    ")"
   ]
  },
  {
   "cell_type": "markdown",
   "metadata": {},
   "source": [
    "Let us now show the first five rows:"
   ]
  },
  {
   "cell_type": "code",
   "execution_count": 18,
   "metadata": {},
   "outputs": [
    {
     "name": "stdout",
     "output_type": "stream",
     "text": [
      "+------------+---------+--------+---------------------+-----------------+-------------------+-----------+-----------+-----------+-----------+-----------+---------+-------+-----------+------+--------------------+----------+--------+----+---------+-------------+--------------+-------+-----------------+---------------------+------------+-------------+---------------------+--------------------+----------------------------+-------------------+---------------------------+----------------------+-------------------+---------------+-------------------+---------------+-------------------+---------------+-------------------+---------------+-------------------+---------------+-------------------+---------------+-------------------+---------------+-------------------+---------------+-------------------+---------------+-------------------+---------------+-------------------+----------------+--------------------+----------------+--------------------+----------------+--------------------+----------------+--------------------+----------------+--------------------+----------------+--------------------+----------------+--------------------+----------------+--------------------+----------------+--------------------+----------------+--------------------+----------------+--------------------+----------------+--------------------+----------------+--------------------+----------------+--------------------+----------------+--------------------+--------+------------+--------+------------+--------+------------+--------+------------+--------+------------+--------+------------+--------+------------+--------+------------+--------+------------+---------+-------------+--------------------+-------------------+---------------+--------------------+-------------------+---------------+--------------------+-------------------+---------------+--------------------+-------------------+---------------+--------------------+-------------------+---------------+--------------------+-------------------+---------------+--------------------+-------------------+---------------+--------------------+-------------------+---------------+--------------------+-------------------+---------------+--------------------+-------------------+---------------+---------------------+--------------------+----------------+---------------------+--------------------+----------------+---------------------+--------------------+----------------+---------------------+--------------------+----------------+---------------------+--------------------+----------------+---------------------+--------------------+----------------+---------------------+--------------------+----------------+---------------------+--------------------+----------------+---------------------+--------------------+----------------+---------------------+--------------------+----------------+---------------------+--------------------+----------------+---------------------+--------------------+----------------+---------------------+--------------------+----------------+---------------------+--------------------+----------------+---------------------+--------------------+----------------+------+------+----------------------+---------------------+-------+-------+--------------+----------------+-----------------------+----------------------+---------------------------+---------------------------+-------------------+-----------+------------+\n",
      "|RECORD_ID   |DISCHARGE|THCIC_ID|PROVIDER_NAME        |TYPE_OF_ADMISSION|SOURCE_OF_ADMISSION|SPEC_UNIT_1|SPEC_UNIT_2|SPEC_UNIT_3|SPEC_UNIT_4|SPEC_UNIT_5|PAT_STATE|PAT_ZIP|PAT_COUNTRY|COUNTY|PUBLIC_HEALTH_REGION|PAT_STATUS|SEX_CODE|RACE|ETHNICITY|ADMIT_WEEKDAY|LENGTH_OF_STAY|PAT_AGE|FIRST_PAYMENT_SRC|SECONDARY_PAYMENT_SRC|TYPE_OF_BILL|TOTAL_CHARGES|TOTAL_NON_COV_CHARGES|TOTAL_CHARGES_ACCOMM|TOTAL_NON_COV_CHARGES_ACCOMM|TOTAL_CHARGES_ANCIL|TOTAL_NON_COV_CHARGES_ANCIL|POA_PROVIDER_INDICATOR|ADMITTING_DIAGNOSIS|PRINC_DIAG_CODE|POA_PRINC_DIAG_CODE|OTH_DIAG_CODE_1|POA_OTH_DIAG_CODE_1|OTH_DIAG_CODE_2|POA_OTH_DIAG_CODE_2|OTH_DIAG_CODE_3|POA_OTH_DIAG_CODE_3|OTH_DIAG_CODE_4|POA_OTH_DIAG_CODE_4|OTH_DIAG_CODE_5|POA_OTH_DIAG_CODE_5|OTH_DIAG_CODE_6|POA_OTH_DIAG_CODE_6|OTH_DIAG_CODE_7|POA_OTH_DIAG_CODE_7|OTH_DIAG_CODE_8|POA_OTH_DIAG_CODE_8|OTH_DIAG_CODE_9|POA_OTH_DIAG_CODE_9|OTH_DIAG_CODE_10|POA_OTH_DIAG_CODE_10|OTH_DIAG_CODE_11|POA_OTH_DIAG_CODE_11|OTH_DIAG_CODE_12|POA_OTH_DIAG_CODE_12|OTH_DIAG_CODE_13|POA_OTH_DIAG_CODE_13|OTH_DIAG_CODE_14|POA_OTH_DIAG_CODE_14|OTH_DIAG_CODE_15|POA_OTH_DIAG_CODE_15|OTH_DIAG_CODE_16|POA_OTH_DIAG_CODE_16|OTH_DIAG_CODE_17|POA_OTH_DIAG_CODE_17|OTH_DIAG_CODE_18|POA_OTH_DIAG_CODE_18|OTH_DIAG_CODE_19|POA_OTH_DIAG_CODE_19|OTH_DIAG_CODE_20|POA_OTH_DIAG_CODE_20|OTH_DIAG_CODE_21|POA_OTH_DIAG_CODE_21|OTH_DIAG_CODE_22|POA_OTH_DIAG_CODE_22|OTH_DIAG_CODE_23|POA_OTH_DIAG_CODE_23|OTH_DIAG_CODE_24|POA_OTH_DIAG_CODE_24|E_CODE_1|POA_E_CODE_1|E_CODE_2|POA_E_CODE_2|E_CODE_3|POA_E_CODE_3|E_CODE_4|POA_E_CODE_4|E_CODE_5|POA_E_CODE_5|E_CODE_6|POA_E_CODE_6|E_CODE_7|POA_E_CODE_7|E_CODE_8|POA_E_CODE_8|E_CODE_9|POA_E_CODE_9|E_CODE_10|POA_E_CODE_10|PRINC_SURG_PROC_CODE|PRINC_SURG_PROC_DAY|PRINC_ICD9_CODE|OTH_SURG_PROC_CODE_1|OTH_SURG_PROC_DAY_1|OTH_ICD9_CODE_1|OTH_SURG_PROC_CODE_2|OTH_SURG_PROC_DAY_2|OTH_ICD9_CODE_2|OTH_SURG_PROC_CODE_3|OTH_SURG_PROC_DAY_3|OTH_ICD9_CODE_3|OTH_SURG_PROC_CODE_4|OTH_SURG_PROC_DAY_4|OTH_ICD9_CODE_4|OTH_SURG_PROC_CODE_5|OTH_SURG_PROC_DAY_5|OTH_ICD9_CODE_5|OTH_SURG_PROC_CODE_6|OTH_SURG_PROC_DAY_6|OTH_ICD9_CODE_6|OTH_SURG_PROC_CODE_7|OTH_SURG_PROC_DAY_7|OTH_ICD9_CODE_7|OTH_SURG_PROC_CODE_8|OTH_SURG_PROC_DAY_8|OTH_ICD9_CODE_8|OTH_SURG_PROC_CODE_9|OTH_SURG_PROC_DAY_9|OTH_ICD9_CODE_9|OTH_SURG_PROC_CODE_10|OTH_SURG_PROC_DAY_10|OTH_ICD9_CODE_10|OTH_SURG_PROC_CODE_11|OTH_SURG_PROC_DAY_11|OTH_ICD9_CODE_11|OTH_SURG_PROC_CODE_12|OTH_SURG_PROC_DAY_12|OTH_ICD9_CODE_12|OTH_SURG_PROC_CODE_13|OTH_SURG_PROC_DAY_13|OTH_ICD9_CODE_13|OTH_SURG_PROC_CODE_14|OTH_SURG_PROC_DAY_14|OTH_ICD9_CODE_14|OTH_SURG_PROC_CODE_15|OTH_SURG_PROC_DAY_15|OTH_ICD9_CODE_15|OTH_SURG_PROC_CODE_16|OTH_SURG_PROC_DAY_16|OTH_ICD9_CODE_16|OTH_SURG_PROC_CODE_17|OTH_SURG_PROC_DAY_17|OTH_ICD9_CODE_17|OTH_SURG_PROC_CODE_18|OTH_SURG_PROC_DAY_18|OTH_ICD9_CODE_18|OTH_SURG_PROC_CODE_19|OTH_SURG_PROC_DAY_19|OTH_ICD9_CODE_19|OTH_SURG_PROC_CODE_20|OTH_SURG_PROC_DAY_20|OTH_ICD9_CODE_20|OTH_SURG_PROC_CODE_21|OTH_SURG_PROC_DAY_21|OTH_ICD9_CODE_21|OTH_SURG_PROC_CODE_22|OTH_SURG_PROC_DAY_22|OTH_ICD9_CODE_22|OTH_SURG_PROC_CODE_23|OTH_SURG_PROC_DAY_23|OTH_ICD9_CODE_23|OTH_SURG_PROC_CODE_24|OTH_SURG_PROC_DAY_24|OTH_ICD9_CODE_24|MS_MDC|MS_DRG|MS_GROUPER_VERSION_NBR|MS_GROUPER_ERROR_CODE|APR_MDC|APR_DRG|RISK_MORTALITY|ILLNESS_SEVERITY|APR_GROUPER_VERSION_NBR|APR_GROUPER_ERROR_CODE|ATTENDING_PHYSICIAN_UNIF_ID|OPERATING_PHYSICIAN_UNIF_ID|ENCOUNTER_INDICATOR|CERT_STATUS|FILLER_SPACE|\n",
      "+------------+---------+--------+---------------------+-----------------+-------------------+-----------+-----------+-----------+-----------+-----------+---------+-------+-----------+------+--------------------+----------+--------+----+---------+-------------+--------------+-------+-----------------+---------------------+------------+-------------+---------------------+--------------------+----------------------------+-------------------+---------------------------+----------------------+-------------------+---------------+-------------------+---------------+-------------------+---------------+-------------------+---------------+-------------------+---------------+-------------------+---------------+-------------------+---------------+-------------------+---------------+-------------------+---------------+-------------------+---------------+-------------------+----------------+--------------------+----------------+--------------------+----------------+--------------------+----------------+--------------------+----------------+--------------------+----------------+--------------------+----------------+--------------------+----------------+--------------------+----------------+--------------------+----------------+--------------------+----------------+--------------------+----------------+--------------------+----------------+--------------------+----------------+--------------------+----------------+--------------------+--------+------------+--------+------------+--------+------------+--------+------------+--------+------------+--------+------------+--------+------------+--------+------------+--------+------------+---------+-------------+--------------------+-------------------+---------------+--------------------+-------------------+---------------+--------------------+-------------------+---------------+--------------------+-------------------+---------------+--------------------+-------------------+---------------+--------------------+-------------------+---------------+--------------------+-------------------+---------------+--------------------+-------------------+---------------+--------------------+-------------------+---------------+--------------------+-------------------+---------------+---------------------+--------------------+----------------+---------------------+--------------------+----------------+---------------------+--------------------+----------------+---------------------+--------------------+----------------+---------------------+--------------------+----------------+---------------------+--------------------+----------------+---------------------+--------------------+----------------+---------------------+--------------------+----------------+---------------------+--------------------+----------------+---------------------+--------------------+----------------+---------------------+--------------------+----------------+---------------------+--------------------+----------------+---------------------+--------------------+----------------+---------------------+--------------------+----------------+---------------------+--------------------+----------------+------+------+----------------------+---------------------+-------+-------+--------------+----------------+-----------------------+----------------------+---------------------------+---------------------------+-------------------+-----------+------------+\n",
      "|120120107482|2012Q1   |000100  |Austin State Hospital|2                |8                  |null       |null       |null       |null       |null       |TX       |77407  |null       |null  |null                |01        |M       |5   |2        |4            |0007          |06     |ZZ               |null                 |111         |3178.00      |0.00                 |3178.00             |0.00                        |0.00               |0.00                       |X                     |78009              |78009          |null               |7999           |null               |null           |null               |null           |null               |null           |null               |null           |null               |null           |null               |null           |null               |null           |null               |null           |null               |null            |null                |null            |null                |null            |null                |null            |null                |null            |null                |null            |null                |null            |null                |null            |null                |null            |null                |null            |null                |null            |null                |null            |null                |null            |null                |null            |null                |null            |null                |null    |null        |null    |null        |null    |null        |null    |null        |null    |null        |null    |null        |null    |null        |null    |null        |null    |null        |null     |null         |null                |null               |null           |null                |null               |null           |null                |null               |null           |null                |null               |null           |null                |null               |null           |null                |null               |null           |null                |null               |null           |null                |null               |null           |null                |null               |null           |null                |null               |null           |null                 |null                |null            |null                 |null                |null            |null                 |null                |null            |null                 |null                |null            |null                 |null                |null            |null                 |null                |null            |null                 |null                |null            |null                 |null                |null            |null                 |null                |null            |null                 |null                |null            |null                 |null                |null            |null                 |null                |null            |null                 |null                |null            |null                 |null                |null            |null                 |null                |null            |01    |081   |01290                 |00                   |01     |052    |1             |1               |07290                  |00                    |9999999998                 |null                       |01                 |2          |null        |\n",
      "|120120107487|2012Q1   |000100  |Austin State Hospital|2                |8                  |null       |null       |null       |null       |null       |TX       |76710  |null       |309   |07                  |01        |F       |4   |2        |4            |0004          |07     |ZZ               |null                 |111         |1816.00      |0.00                 |1816.00             |0.00                        |0.00               |0.00                       |X                     |30000              |30000          |null               |7999           |null               |null           |null               |null           |null               |null           |null               |null           |null               |null           |null               |null           |null               |null           |null               |null           |null               |null            |null                |null            |null                |null            |null                |null            |null                |null            |null                |null            |null                |null            |null                |null            |null                |null            |null                |null            |null                |null            |null                |null            |null                |null            |null                |null            |null                |null            |null                |null    |null        |null    |null        |null    |null        |null    |null        |null    |null        |null    |null        |null    |null        |null    |null        |null    |null        |null     |null         |null                |null               |null           |null                |null               |null           |null                |null               |null           |null                |null               |null           |null                |null               |null           |null                |null               |null           |null                |null               |null           |null                |null               |null           |null                |null               |null           |null                |null               |null           |null                 |null                |null            |null                 |null                |null            |null                 |null                |null            |null                 |null                |null            |null                 |null                |null            |null                 |null                |null            |null                 |null                |null            |null                 |null                |null            |null                 |null                |null            |null                 |null                |null            |null                 |null                |null            |null                 |null                |null            |null                 |null                |null            |null                 |null                |null            |null                 |null                |null            |19    |880   |01290                 |00                   |19     |756    |1             |1               |07290                  |00                    |9999999998                 |null                       |01                 |2          |null        |\n",
      "|120120107568|2012Q1   |000100  |Austin State Hospital|2                |8                  |null       |null       |null       |null       |null       |TX       |78628  |null       |491   |07                  |01        |F       |2   |2        |4            |0001          |08     |ZZ               |null                 |111         |454.00       |0.00                 |454.00              |0.00                        |0.00               |0.00                       |X                     |311                |311            |null               |7999           |null               |null           |null               |null           |null               |null           |null               |null           |null               |null           |null               |null           |null               |null           |null               |null           |null               |null            |null                |null            |null                |null            |null                |null            |null                |null            |null                |null            |null                |null            |null                |null            |null                |null            |null                |null            |null                |null            |null                |null            |null                |null            |null                |null            |null                |null            |null                |null    |null        |null    |null        |null    |null        |null    |null        |null    |null        |null    |null        |null    |null        |null    |null        |null    |null        |null     |null         |null                |null               |null           |null                |null               |null           |null                |null               |null           |null                |null               |null           |null                |null               |null           |null                |null               |null           |null                |null               |null           |null                |null               |null           |null                |null               |null           |null                |null               |null           |null                 |null                |null            |null                 |null                |null            |null                 |null                |null            |null                 |null                |null            |null                 |null                |null            |null                 |null                |null            |null                 |null                |null            |null                 |null                |null            |null                 |null                |null            |null                 |null                |null            |null                 |null                |null            |null                 |null                |null            |null                 |null                |null            |null                 |null                |null            |null                 |null                |null            |19    |881   |01290                 |00                   |19     |754    |1             |1               |07290                  |00                    |9999999998                 |null                       |01                 |2          |null        |\n",
      "|120120107381|2012Q1   |000100  |Austin State Hospital|2                |8                  |null       |null       |null       |null       |null       |TX       |76542  |null       |027   |07                  |01        |F       |3   |2        |5            |0006          |07     |CI               |null                 |111         |2724.00      |0.00                 |2724.00             |0.00                        |0.00               |0.00                       |X                     |311                |311            |null               |V7109          |null               |null           |null               |null           |null               |null           |null               |null           |null               |null           |null               |null           |null               |null           |null               |null           |null               |null            |null                |null            |null                |null            |null                |null            |null                |null            |null                |null            |null                |null            |null                |null            |null                |null            |null                |null            |null                |null            |null                |null            |null                |null            |null                |null            |null                |null            |null                |null    |null        |null    |null        |null    |null        |null    |null        |null    |null        |null    |null        |null    |null        |null    |null        |null    |null        |null     |null         |null                |null               |null           |null                |null               |null           |null                |null               |null           |null                |null               |null           |null                |null               |null           |null                |null               |null           |null                |null               |null           |null                |null               |null           |null                |null               |null           |null                |null               |null           |null                 |null                |null            |null                 |null                |null            |null                 |null                |null            |null                 |null                |null            |null                 |null                |null            |null                 |null                |null            |null                 |null                |null            |null                 |null                |null            |null                 |null                |null            |null                 |null                |null            |null                 |null                |null            |null                 |null                |null            |null                 |null                |null            |null                 |null                |null            |null                 |null                |null            |19    |881   |01290                 |00                   |19     |754    |1             |1               |07290                  |00                    |9999999998                 |null                       |01                 |2          |null        |\n",
      "|120120107410|2012Q1   |000100  |Austin State Hospital|2                |8                  |null       |null       |null       |null       |null       |TX       |76542  |null       |027   |07                  |01        |F       |3   |2        |3            |0022          |08     |ZZ               |null                 |111         |9988.00      |0.00                 |9988.00             |0.00                        |0.00               |0.00                       |X                     |311                |311            |null               |V7109          |null               |null           |null               |null           |null               |null           |null               |null           |null               |null           |null               |null           |null               |null           |null               |null           |null               |null            |null                |null            |null                |null            |null                |null            |null                |null            |null                |null            |null                |null            |null                |null            |null                |null            |null                |null            |null                |null            |null                |null            |null                |null            |null                |null            |null                |null            |null                |null    |null        |null    |null        |null    |null        |null    |null        |null    |null        |null    |null        |null    |null        |null    |null        |null    |null        |null     |null         |null                |null               |null           |null                |null               |null           |null                |null               |null           |null                |null               |null           |null                |null               |null           |null                |null               |null           |null                |null               |null           |null                |null               |null           |null                |null               |null           |null                |null               |null           |null                 |null                |null            |null                 |null                |null            |null                 |null                |null            |null                 |null                |null            |null                 |null                |null            |null                 |null                |null            |null                 |null                |null            |null                 |null                |null            |null                 |null                |null            |null                 |null                |null            |null                 |null                |null            |null                 |null                |null            |null                 |null                |null            |null                 |null                |null            |null                 |null                |null            |19    |881   |01290                 |00                   |19     |754    |1             |1               |07290                  |00                    |9999999998                 |null                       |01                 |2          |null        |\n",
      "+------------+---------+--------+---------------------+-----------------+-------------------+-----------+-----------+-----------+-----------+-----------+---------+-------+-----------+------+--------------------+----------+--------+----+---------+-------------+--------------+-------+-----------------+---------------------+------------+-------------+---------------------+--------------------+----------------------------+-------------------+---------------------------+----------------------+-------------------+---------------+-------------------+---------------+-------------------+---------------+-------------------+---------------+-------------------+---------------+-------------------+---------------+-------------------+---------------+-------------------+---------------+-------------------+---------------+-------------------+---------------+-------------------+----------------+--------------------+----------------+--------------------+----------------+--------------------+----------------+--------------------+----------------+--------------------+----------------+--------------------+----------------+--------------------+----------------+--------------------+----------------+--------------------+----------------+--------------------+----------------+--------------------+----------------+--------------------+----------------+--------------------+----------------+--------------------+----------------+--------------------+--------+------------+--------+------------+--------+------------+--------+------------+--------+------------+--------+------------+--------+------------+--------+------------+--------+------------+---------+-------------+--------------------+-------------------+---------------+--------------------+-------------------+---------------+--------------------+-------------------+---------------+--------------------+-------------------+---------------+--------------------+-------------------+---------------+--------------------+-------------------+---------------+--------------------+-------------------+---------------+--------------------+-------------------+---------------+--------------------+-------------------+---------------+--------------------+-------------------+---------------+---------------------+--------------------+----------------+---------------------+--------------------+----------------+---------------------+--------------------+----------------+---------------------+--------------------+----------------+---------------------+--------------------+----------------+---------------------+--------------------+----------------+---------------------+--------------------+----------------+---------------------+--------------------+----------------+---------------------+--------------------+----------------+---------------------+--------------------+----------------+---------------------+--------------------+----------------+---------------------+--------------------+----------------+---------------------+--------------------+----------------+---------------------+--------------------+----------------+---------------------+--------------------+----------------+------+------+----------------------+---------------------+-------+-------+--------------+----------------+-----------------------+----------------------+---------------------------+---------------------------+-------------------+-----------+------------+\n",
      "only showing top 5 rows\n",
      "\n"
     ]
    }
   ],
   "source": [
    "data_sp.show(5, truncate=False)"
   ]
  },
  {
   "cell_type": "markdown",
   "metadata": {},
   "source": [
    "Using the scrollbar you can verify that the first five rows printed (under the sequence of dashes and plus signs!)."
   ]
  },
  {
   "cell_type": "markdown",
   "metadata": {},
   "source": [
    "Let's now measure how long it takes to import the data via Pandas."
   ]
  },
  {
   "cell_type": "code",
   "execution_count": 12,
   "metadata": {},
   "outputs": [
    {
     "data": {
      "text/plain": [
       "35.551525896599244"
      ]
     },
     "execution_count": 12,
     "metadata": {},
     "output_type": "execute_result"
    }
   ],
   "source": [
    "import pandas as pd\n",
    "import timeit\n",
    "\n",
    "stmt_pandas = 'import pandas as pd; ' + \\\n",
    "    'pd.read_csv(\"C:\\\\\\\\Users\\\\\\\\Vikas\\\\\\\\PUDF_base1_1q2012_tab.txt\",' + \\\n",
    "        'delimiter=\"\\t\",' + \\\n",
    "        'header=0,' + \\\n",
    "        'dtype=\"str\"' + \\\n",
    "    ')'\n",
    "\n",
    "timeit.timeit(stmt=stmt_pandas, number = 1)"
   ]
  },
  {
   "cell_type": "markdown",
   "metadata": {},
   "source": [
    "It takes 35 seconds in Pandas (on my laptop).  \n",
    "\n",
    "We now benchmark the data import in Spark:"
   ]
  },
  {
   "cell_type": "code",
   "execution_count": 14,
   "metadata": {},
   "outputs": [
    {
     "data": {
      "text/plain": [
       "1.9205595757441074"
      ]
     },
     "execution_count": 14,
     "metadata": {},
     "output_type": "execute_result"
    }
   ],
   "source": [
    "stmt_spark = 'from pyspark.sql import SparkSession; ' + \\\n",
    "    'spark = SparkSession.builder.appName(\"test\").getOrCreate();' + \\\n",
    "    'spark.read.load(\"C:\\\\\\\\Users\\\\\\\\Vikas\\\\\\\\PUDF_base1_1q2012_tab.txt\",' + \\\n",
    "        'format=\"csv\",' + \\\n",
    "        'sep=\"\\t\",' + \\\n",
    "        'header=True' + \\\n",
    "    ')'\n",
    "\n",
    "timeit.timeit(stmt=stmt_spark, number = 1)"
   ]
  },
  {
   "cell_type": "markdown",
   "metadata": {},
   "source": [
    "It takes ~ 2 seconds using Spark."
   ]
  }
 ],
 "metadata": {
  "kernelspec": {
   "display_name": "Python 3",
   "language": "python",
   "name": "python3"
  },
  "language_info": {
   "codemirror_mode": {
    "name": "ipython",
    "version": 3
   },
   "file_extension": ".py",
   "mimetype": "text/x-python",
   "name": "python",
   "nbconvert_exporter": "python",
   "pygments_lexer": "ipython3",
   "version": "3.6.5"
  }
 },
 "nbformat": 4,
 "nbformat_minor": 2
}
